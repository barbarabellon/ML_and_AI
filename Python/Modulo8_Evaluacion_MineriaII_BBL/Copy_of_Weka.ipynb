{
  "nbformat": 4,
  "nbformat_minor": 0,
  "metadata": {
    "colab": {
      "name": "Copy of Weka.ipynb",
      "provenance": []
    },
    "kernelspec": {
      "name": "python3",
      "display_name": "Python 3"
    }
  },
  "cells": [
    {
      "cell_type": "markdown",
      "metadata": {
        "id": "tT1L02-SrHVp",
        "colab_type": "text"
      },
      "source": [
        "# Uso de Weka desde python\n",
        "Autores: Mauricio Beltrán, Juan Antonio Vicente, Alfonso Carabantes"
      ]
    },
    {
      "cell_type": "markdown",
      "metadata": {
        "id": "r4Bx0FjOt5kI",
        "colab_type": "text"
      },
      "source": [
        "Vamos a ver como realizar la instalación para poder usar **Weka** dentro de **python**. Para esta tarea usaremos el módulo **python-weka-wrapper3** (http://fracpete.github.io/python-weka-wrapper3) que permite através del API de Java poder usar los algoritmos que tiene implementado Weka."
      ]
    },
    {
      "cell_type": "markdown",
      "metadata": {
        "id": "PcuzmIJprMLK",
        "colab_type": "text"
      },
      "source": [
        "## Instalación de módulos"
      ]
    },
    {
      "cell_type": "code",
      "metadata": {
        "id": "2YYurTcJlV6d",
        "colab_type": "code",
        "colab": {
          "base_uri": "https://localhost:8080/",
          "height": 256
        },
        "outputId": "548f5ffb-2044-4dd9-b9df-5f8178672034"
      },
      "source": [
        "!pip install javabridge\n",
        "!pip install python-weka-wrapper3\n",
        "!apt-get install  python3-pygraphviz"
      ],
      "execution_count": null,
      "outputs": [
        {
          "output_type": "stream",
          "text": [
            "Requirement already satisfied: javabridge in /usr/local/lib/python3.6/dist-packages (1.0.19)\n",
            "Requirement already satisfied: numpy in /usr/local/lib/python3.6/dist-packages (from javabridge) (1.18.5)\n",
            "Requirement already satisfied: python-weka-wrapper3 in /usr/local/lib/python3.6/dist-packages (0.1.14)\n",
            "Requirement already satisfied: javabridge>=1.0.14 in /usr/local/lib/python3.6/dist-packages (from python-weka-wrapper3) (1.0.19)\n",
            "Requirement already satisfied: numpy in /usr/local/lib/python3.6/dist-packages (from python-weka-wrapper3) (1.18.5)\n",
            "Reading package lists... Done\n",
            "Building dependency tree       \n",
            "Reading state information... Done\n",
            "python3-pygraphviz is already the newest version (1.4~rc1-1build2.1).\n",
            "The following package was automatically installed and is no longer required:\n",
            "  libnvidia-common-440\n",
            "Use 'apt autoremove' to remove it.\n",
            "0 upgraded, 0 newly installed, 0 to remove and 35 not upgraded.\n"
          ],
          "name": "stdout"
        }
      ]
    },
    {
      "cell_type": "markdown",
      "metadata": {
        "id": "VZodN3XsrSGu",
        "colab_type": "text"
      },
      "source": [
        "## Arrancamos la máquina virtual java para poder usar weka"
      ]
    },
    {
      "cell_type": "code",
      "metadata": {
        "id": "6caS0rILlEhd",
        "colab_type": "code",
        "colab": {
          "base_uri": "https://localhost:8080/",
          "height": 110
        },
        "outputId": "e39b1919-684f-4006-acac-f8b54d986baf"
      },
      "source": [
        "import weka.core.jvm as jvm\n",
        "#jvm.stop()\n",
        "jvm.start( packages = True)"
      ],
      "execution_count": null,
      "outputs": [
        {
          "output_type": "stream",
          "text": [
            "DEBUG:weka.core.jvm:Adding bundled jars\n",
            "DEBUG:weka.core.jvm:Classpath=['/usr/local/lib/python3.6/dist-packages/javabridge/jars/rhino-1.7R4.jar', '/usr/local/lib/python3.6/dist-packages/javabridge/jars/runnablequeue.jar', '/usr/local/lib/python3.6/dist-packages/javabridge/jars/cpython.jar', '/usr/local/lib/python3.6/dist-packages/weka/lib/weka.jar', '/usr/local/lib/python3.6/dist-packages/weka/lib/python-weka-wrapper.jar']\n",
            "DEBUG:weka.core.jvm:MaxHeapSize=default\n",
            "DEBUG:weka.core.jvm:Package support enabled\n"
          ],
          "name": "stderr"
        }
      ]
    },
    {
      "cell_type": "markdown",
      "metadata": {
        "id": "WLE2NV3srWuP",
        "colab_type": "text"
      },
      "source": [
        "## Cargamos el fichero de datos de iris"
      ]
    },
    {
      "cell_type": "code",
      "metadata": {
        "id": "EIZmbUKyl6mO",
        "colab_type": "code",
        "colab": {}
      },
      "source": [
        "from weka.core.converters import Loader\n",
        "data_dir = \"./\"\n",
        "loader = Loader(classname=\"weka.core.converters.ArffLoader\")\n",
        "data = loader.load_url(\"https://gist.githubusercontent.com/myui/143fa9d05bd6e7db0114/raw/500f178316b802f1cade6e3bf8dc814a96e84b1e/iris.arff\")\n",
        "#data = loader.load_file(data_dir + \"iris.arff\")\n",
        "data.class_is_last()\n",
        "\n",
        "#print(data)"
      ],
      "execution_count": null,
      "outputs": []
    },
    {
      "cell_type": "markdown",
      "metadata": {
        "id": "xFsLO1e2rgT2",
        "colab_type": "text"
      },
      "source": [
        "## Probamos el clasificador J48"
      ]
    },
    {
      "cell_type": "code",
      "metadata": {
        "id": "gmwSl58Bm_aQ",
        "colab_type": "code",
        "colab": {
          "base_uri": "https://localhost:8080/",
          "height": 311
        },
        "outputId": "d7ffef5b-4b9f-4e12-d58e-d8b7a7facd5a"
      },
      "source": [
        "from weka.classifiers import Classifier\n",
        "cls = Classifier(classname=\"weka.classifiers.trees.J48\", options=[\"-C\", \"0.3\"])\n",
        "cls.build_classifier(data)\n",
        "\n",
        "print(cls)\n"
      ],
      "execution_count": null,
      "outputs": [
        {
          "output_type": "stream",
          "text": [
            "J48 pruned tree\n",
            "------------------\n",
            "\n",
            "petalwidth <= 0.6: Iris-setosa (50.0)\n",
            "petalwidth > 0.6\n",
            "|   petalwidth <= 1.7\n",
            "|   |   petallength <= 4.9: Iris-versicolor (48.0/1.0)\n",
            "|   |   petallength > 4.9\n",
            "|   |   |   petalwidth <= 1.5: Iris-virginica (3.0)\n",
            "|   |   |   petalwidth > 1.5: Iris-versicolor (3.0/1.0)\n",
            "|   petalwidth > 1.7: Iris-virginica (46.0/1.0)\n",
            "\n",
            "Number of Leaves  : \t5\n",
            "\n",
            "Size of the tree : \t9\n",
            "\n"
          ],
          "name": "stdout"
        }
      ]
    },
    {
      "cell_type": "markdown",
      "metadata": {
        "id": "LjXKexCCrmul",
        "colab_type": "text"
      },
      "source": [
        "## Instalación de otros paquetes de weka\n",
        "\n"
      ]
    },
    {
      "cell_type": "markdown",
      "metadata": {
        "id": "XZnlxL1sr0un",
        "colab_type": "text"
      },
      "source": [
        "Podemos ver los paquetes que tenemos instalados"
      ]
    },
    {
      "cell_type": "code",
      "metadata": {
        "id": "Q5kKftxrnix3",
        "colab_type": "code",
        "colab": {
          "base_uri": "https://localhost:8080/",
          "height": 35
        },
        "outputId": "c12c4b71-b643-4f6f-acdd-94c823d5c34b"
      },
      "source": [
        "packages.installed_packages()\n"
      ],
      "execution_count": null,
      "outputs": [
        {
          "output_type": "execute_result",
          "data": {
            "text/plain": [
              "[AnDE (1.2.1), multilayerPerceptronCS (1.0.1)]"
            ]
          },
          "metadata": {
            "tags": []
          },
          "execution_count": 10
        }
      ]
    },
    {
      "cell_type": "markdown",
      "metadata": {
        "id": "bLVCwiQWsJYY",
        "colab_type": "text"
      },
      "source": [
        "Podemos listar los paquetes disponibles para descargar"
      ]
    },
    {
      "cell_type": "code",
      "metadata": {
        "id": "cwDxV3JWkVdR",
        "colab_type": "code",
        "colab": {
          "base_uri": "https://localhost:8080/",
          "height": 1000
        },
        "outputId": "da9ab06e-e6d0-4704-ea68-f1eadb78961f"
      },
      "source": [
        "import weka.core.packages as packages\n",
        "items = packages.all_packages()\n",
        "for item in items:\n",
        "  print(item.classname + \" \" + item.url )\n",
        "\n",
        "\n"
      ],
      "execution_count": null,
      "outputs": [
        {
          "output_type": "stream",
          "text": [
            "weka.core.packageManagement.DefaultPackage https://github.com/felipebravom/AffectiveTweets/releases/download/1.0.2/AffectiveTweets1.0.2.zip\n",
            "weka.core.packageManagement.DefaultPackage http://prdownloads.sourceforge.net/averagedndepend/AnDE1.2.1.zip?download\n",
            "weka.core.packageManagement.DefaultPackage https://github.com/garfieldnate/Weka_AnalogicalModeling/releases/download/0.04/Weka_AnalogicalModeling-0.04.zip\n",
            "weka.core.packageManagement.DefaultPackage http://prdownloads.sourceforge.net/ar-text-mining/ArabicStemmers_LightStemmers_1.0.0.zip?download\n",
            "weka.core.packageManagement.DefaultPackage http://www.cs.ubc.ca/labs/beta/Projects/autoweka/autoweka-2.6.1.zip\n",
            "weka.core.packageManagement.DefaultPackage https://github.com/fritziF/BANGFile-WekaPackage/releases/download/v1.0/BANGFile.zip\n",
            "weka.core.packageManagement.DefaultPackage http://csusap.csu.edu.au/~zislam/code/CAIRAD.1.0.zip\n",
            "weka.core.packageManagement.DefaultPackage https://github.com/jiangliangxiao/CFWNB/blob/master/CFWNB.zip?raw=true\n",
            "weka.core.packageManagement.DefaultPackage https://www.cs.uic.edu/~tdang/file/CHIRP1.0.1.zip\n",
            "weka.core.packageManagement.DefaultPackage http://prdownloads.sourceforge.net/weka/CLOPE1.0.1.zip?download\n",
            "weka.core.packageManagement.DefaultPackage http://csusap.csu.edu.au/~zislam/code/CSForestWeka.zip\n",
            "weka.core.packageManagement.DefaultPackage http://prdownloads.sourceforge.net/fsvc/CVAttributeEval1.0.0.zip?download\n",
            "weka.core.packageManagement.DefaultPackage http://csusap.csu.edu.au/~zislam/code/DMI.zip\n",
            "weka.core.packageManagement.DefaultPackage http://prdownloads.sourceforge.net/weka/DMNBtext1.0.1.zip?download\n",
            "weka.core.packageManagement.DefaultPackage http://prdownloads.sourceforge.net/weka/DTNB1.0.4.zip?download\n",
            "weka.core.packageManagement.DefaultPackage http://prdownloads.sourceforge.net/weka/DilcaDistance1.0.1.zip?download\n",
            "weka.core.packageManagement.DefaultPackage http://www.dsi.uclm.es/personal/PabloBermejo/downloads/DistributionBasedBalance1.0.0.zip\n",
            "weka.core.packageManagement.DefaultPackage http://downloads.sourceforge.net/project/ear4/EAR4.zip\n",
            "weka.core.packageManagement.DefaultPackage https://github.com/arturolp/ebmc-weka/releases/download/v1.0/ebmc.zip\n",
            "weka.core.packageManagement.DefaultPackage http://prdownloads.sourceforge.net/weka/EMImputation1.0.1.zip?download\n",
            "weka.core.packageManagement.DefaultPackage https://github.com/sebastian-luna-valero/EvolutionarySearch/releases/download/1.0.2/EvolutionarySearch.zip\n",
            "weka.core.packageManagement.DefaultPackage http://csusap.csu.edu.au/~zislam/code/ForExPlusPlus.1.1.zip\n",
            "weka.core.packageManagement.DefaultPackage http://csusap.csu.edu.au/~zislam/code/ForestPA.zip\n",
            "weka.core.packageManagement.DefaultPackage http://prdownloads.sourceforge.net/weka/GPAttributeGeneration1.0.1.zip?download\n",
            "weka.core.packageManagement.DefaultPackage http://csusap.csu.edu.au/~zislam/code/GenClustPlusPlus.zip\n",
            "weka.core.packageManagement.DefaultPackage https://github.com/marcogillies/HMMWeka/releases/download/v1.1/HMM.zip\n",
            "weka.core.packageManagement.DefaultPackage https://github.com/sheshas/IBkLG/blob/master/IBkLG.zip?raw=true\n",
            "weka.core.packageManagement.DefaultPackage https://github.com/glaubercini/ipcp/raw/master/packages/IPCP_1_0_1.zip\n",
            "weka.core.packageManagement.DefaultPackage http://www.dsi.uclm.es/personal/PabloBermejo/downloads/IWSS1.0.0.zip\n",
            "weka.core.packageManagement.DefaultPackage http://www.dsi.uclm.es/personal/PabloBermejo/downloads/IWSSembeddedNB1.0.0.zip\n",
            "weka.core.packageManagement.DefaultPackage http://www.aldapa.eus/res/weka-ctc/J48Consolidated-v3.1.zip\n",
            "weka.core.packageManagement.DefaultPackage http://prdownloads.sourceforge.net/weka/J48graft1.1.5.zip?download\n",
            "weka.core.packageManagement.DefaultPackage http://flanagan.ugr.es/weka/JCDT.zip\n",
            "weka.core.packageManagement.DefaultPackage http://www.aldapa.eus/res/weka-jchaidstar/JCHAIDStar-v1.1.zip\n",
            "weka.core.packageManagement.DefaultPackage http://prdownloads.sourceforge.net/weka/JDBCDriversDummyPackage1.0.1.zip?download\n",
            "weka.core.packageManagement.DefaultPackage http://prdownloads.sourceforge.net/wekann/LVQ1.0.1.zip?download\n",
            "weka.core.packageManagement.DefaultPackage http://prdownloads.sourceforge.net/weka/LibLINEAR1.9.8.zip?download\n",
            "weka.core.packageManagement.DefaultPackage http://prdownloads.sourceforge.net/weka/LibSVM1.0.10.zip?download\n",
            "weka.core.packageManagement.DefaultPackage http://prdownloads.sourceforge.net/modlem/package-modlem1.0.0.zip?download\n",
            "weka.core.packageManagement.DefaultPackage https://sourceforge.net/projects/moefc/files/MultiObjectiveEvolutionaryFuzzyClassifier1.0.1.zip/download\n",
            "weka.core.packageManagement.DefaultPackage http://downloads.sourceforge.net/project/moea/MultiObjectiveEvolutionarySearch1.0.0.zip\n",
            "weka.core.packageManagement.DefaultPackage http://prdownloads.sourceforge.net/weka/NNge1.0.3.zip?download\n",
            "weka.core.packageManagement.DefaultPackage https://github.com/openml/openml-weka/releases/download/openmlweka-0.9.6/OpenmlWeka.zip\n",
            "weka.core.packageManagement.DefaultPackage https://github.com/sebastian-luna-valero/PSOSearch/releases/download/1.2.0/PSOSearch.zip\n",
            "weka.core.packageManagement.DefaultPackage http://prdownloads.sourceforge.net/weka/RBFNetwork1.0.8.zip?download\n",
            "weka.core.packageManagement.DefaultPackage https://prdownloads.sourceforge.net/weka/RPlugin1.3.29.zip?download\n",
            "weka.core.packageManagement.DefaultPackage https://github.com/felipebravom/RankCorrelation/releases/download/v1.0.0/RankCorrelation1.0.0.zip\n",
            "weka.core.packageManagement.DefaultPackage http://downloads.sourceforge.net/project/wekarankerbydtclassification/v5/RankerByDTClassification.zip\n",
            "weka.core.packageManagement.DefaultPackage http://www.dsi.uclm.es/personal/PabloBermejo/downloads/RerankingSearch1.1.0.zip\n",
            "weka.core.packageManagement.DefaultPackage http://rseslib.mimuw.edu.pl/weka/Rseslib3.2.3.zip\n",
            "weka.core.packageManagement.DefaultPackage http://prdownloads.sourceforge.net/weka/SMOTE1.0.3.zip?download\n",
            "weka.core.packageManagement.DefaultPackage http://csusap.csu.edu.au/~zislam/code/SPAARC.zip\n",
            "weka.core.packageManagement.DefaultPackage https://github.com/chrispy645/spmf-wrapper/releases/download/0.0.2/spmfWrapper.zip\n",
            "weka.core.packageManagement.DefaultPackage http://prdownloads.sourceforge.net/weka/SPegasos1.0.1.zip?download\n",
            "weka.core.packageManagement.DefaultPackage https://sites.google.com/site/covoes/SSF_Package.zip\n",
            "weka.core.packageManagement.DefaultPackage http://prdownloads.sourceforge.net/weka/SVMAttributeEval1.0.1.zip?download\n",
            "weka.core.packageManagement.DefaultPackage http://prdownloads.sourceforge.net/wekann/SelfOrganizingMap1.0.3.zip?download\n",
            "weka.core.packageManagement.DefaultPackage http://prdownloads.sourceforge.net/sgmweka/SparseGenerativeModel.zip?download\n",
            "weka.core.packageManagement.DefaultPackage https://github.com/cgearhart/students-filters/raw/master/StudentFilters.zip\n",
            "weka.core.packageManagement.DefaultPackage http://csusap.csu.edu.au/~zislam/code/SysForWeka.zip\n",
            "weka.core.packageManagement.DefaultPackage https://storage.googleapis.com/google-code-archive-downloads/v2/code.google.com/targeted-projection-pursuit/TPP-1.0.6.zip\n",
            "weka.core.packageManagement.DefaultPackage http://prdownloads.sourceforge.net/weka/WekaExcel1.0.7.zip?download\n",
            "weka.core.packageManagement.DefaultPackage http://prdownloads.sourceforge.net/weka/WekaODF1.0.4.zip?download\n",
            "weka.core.packageManagement.DefaultPackage http://github.com/christopher-beckham/weka-pyscript/releases/download/0.6.0/WekaPyScript.zip\n",
            "weka.core.packageManagement.DefaultPackage https://github.com/giordamaug/WiSARD4WEKA/releases/download/v.1.0.1/WiSARD.zip\n",
            "weka.core.packageManagement.DefaultPackage http://prdownloads.sourceforge.net/weka/XMeans1.0.6.zip?download\n",
            "weka.core.packageManagement.DefaultPackage http://prdownloads.sourceforge.net/weka/alternatingDecisionTrees1.0.7.zip?download\n",
            "weka.core.packageManagement.DefaultPackage http://prdownloads.sourceforge.net/weka/alternatingModelTrees1.0.1.zip?download\n",
            "weka.core.packageManagement.DefaultPackage http://userpage.fu-berlin.de/semu/software/weka/anonymization1.0.1.zip\n",
            "weka.core.packageManagement.DefaultPackage https://raw.githubusercontent.com/farbtrommel/arx-weka/master/package/arxAnonymizer1.0.0.zip\n",
            "weka.core.packageManagement.DefaultPackage http://prdownloads.sourceforge.net/weka/associationRulesVisualizer1.0.3.zip?download\n",
            "weka.core.packageManagement.DefaultPackage http://prdownloads.sourceforge.net/weka/attributeSelectionSearchMethods1.0.7.zip?download\n",
            "weka.core.packageManagement.DefaultPackage http://people.cs.umass.edu/~lfriedl/code/baggedLocalOutlierFactor.zip\n",
            "weka.core.packageManagement.DefaultPackage http://prdownloads.sourceforge.net/weka/bayesianLogisticRegression1.0.5.zip?download\n",
            "weka.core.packageManagement.DefaultPackage http://prdownloads.sourceforge.net/weka/bestFirstTree1.0.4.zip?download\n",
            "weka.core.packageManagement.DefaultPackage http://prdownloads.sourceforge.net/weka/calibrationCurve1.0.0.zip?download\n",
            "weka.core.packageManagement.DefaultPackage http://prdownloads.sourceforge.net/weka/cascadeKMeans1.0.4.zip?download\n",
            "weka.core.packageManagement.DefaultPackage http://prdownloads.sourceforge.net/weka/cassandraConverters1.0.1.zip?download\n",
            "weka.core.packageManagement.DefaultPackage http://prdownloads.sourceforge.net/weka/chiSquaredAttributeEval1.0.4.zip?download\n",
            "weka.core.packageManagement.DefaultPackage http://prdownloads.sourceforge.net/weka/citationKNN1.0.1.zip?download\n",
            "weka.core.packageManagement.DefaultPackage http://prdownloads.sourceforge.net/weka/classAssociationRules1.0.3.zip?download\n",
            "weka.core.packageManagement.DefaultPackage http://prdownloads.sourceforge.net/weka/classificationViaClustering1.0.8.zip?download\n",
            "weka.core.packageManagement.DefaultPackage http://prdownloads.sourceforge.net/weka/classificationViaRegression1.0.1.zip?download\n",
            "weka.core.packageManagement.DefaultPackage http://prdownloads.sourceforge.net/weka/classifierBasedAttributeSelection1.0.5.zip?download\n",
            "weka.core.packageManagement.DefaultPackage http://prdownloads.sourceforge.net/weka/classifierErrors1.0.1.zip?download\n",
            "weka.core.packageManagement.DefaultPackage http://prdownloads.sourceforge.net/weka/clojureClassifier1.0.1.zip?download\n",
            "weka.core.packageManagement.DefaultPackage http://prdownloads.sourceforge.net/weka/complementNaiveBayes1.0.3.zip?download\n",
            "weka.core.packageManagement.DefaultPackage http://prdownloads.sourceforge.net/weka/conjunctiveRule1.0.4.zip?download\n",
            "weka.core.packageManagement.DefaultPackage http://prdownloads.sourceforge.net/weka/consistencySubsetEval1.0.5.zip?download\n",
            "weka.core.packageManagement.DefaultPackage http://prdownloads.sourceforge.net/weka/costSensitiveAttributeSelection1.0.3.zip?download\n",
            "weka.core.packageManagement.DefaultPackage http://prdownloads.sourceforge.net/weka/dagging1.0.3.zip?download\n",
            "weka.core.packageManagement.DefaultPackage http://prdownloads.sourceforge.net/weka/decorate1.0.2.zip?download\n",
            "weka.core.packageManagement.DefaultPackage http://prdownloads.sourceforge.net/weka/denormalize1.0.3.zip?download\n",
            "weka.core.packageManagement.DefaultPackage http://prdownloads.sourceforge.net/weka/discriminantAnalysis1.0.3.zip?download\n",
            "weka.core.packageManagement.DefaultPackage http://downloads.sourceforge.net/project/weka/weka-packages/distributedWekaBase1.1.17.zip\n",
            "weka.core.packageManagement.DefaultPackage http://prdownloads.sourceforge.net/weka/distributedWekaHadoop1.1.17.zip?download\n",
            "weka.core.packageManagement.DefaultPackage http://prdownloads.sourceforge.net/weka/distributedWekaHadoop21.1.17.zip?download\n",
            "weka.core.packageManagement.DefaultPackage http://prdownloads.sourceforge.net/weka/distributedWekaHadoop2Libs1.0.1.zip?download\n",
            "weka.core.packageManagement.DefaultPackage http://prdownloads.sourceforge.net/weka/distributedWekaHadoopCore1.1.22.zip?download\n",
            "weka.core.packageManagement.DefaultPackage http://prdownloads.sourceforge.net/weka/distributedWekaHadoopLibs1.0.1.zip?download\n",
            "weka.core.packageManagement.DefaultPackage http://downloads.sourceforge.net/weka/weka-packages/distributedWekaSpark1.1.9.zip\n",
            "weka.core.packageManagement.DefaultPackage http://downloads.sourceforge.net/weka/weka-packages/distributedWekaSpark2Dev1.1.4.zip\n",
            "weka.core.packageManagement.DefaultPackage http://downloads.sourceforge.net/weka/weka-packages/distributedWekaSpark3Dev1.1.0.zip\n",
            "weka.core.packageManagement.DefaultPackage http://downloads.sourceforge.net/weka/weka-packages/distributedWekaSparkDev1.1.4.zip\n",
            "weka.core.packageManagement.DefaultPackage http://prdownloads.sourceforge.net/weka/dualPerturbAndCombine1.0.0.zip?download\n",
            "weka.core.packageManagement.DefaultPackage http://prdownloads.sourceforge.net/weka/elasticNet1.0.1.zip?download\n",
            "weka.core.packageManagement.DefaultPackage http://prdownloads.sourceforge.net/weka/ensembleLibrary1.0.6.zip?download\n",
            "weka.core.packageManagement.DefaultPackage http://prdownloads.sourceforge.net/weka/ensemblesOfNestedDichotomies1.0.6.zip?download\n",
            "weka.core.packageManagement.DefaultPackage http://prdownloads.sourceforge.net/weka/extraTrees1.0.2.zip?download\n",
            "weka.core.packageManagement.DefaultPackage http://prdownloads.sourceforge.net/weka/fastCorrBasedFS1.0.1.zip?download\n",
            "weka.core.packageManagement.DefaultPackage http://prdownloads.sourceforge.net/weka/filteredAttributeSelection1.0.1.zip?download\n",
            "weka.core.packageManagement.DefaultPackage http://prdownloads.sourceforge.net/weka/fourierTransform1.0.1.zip?download\n",
            "weka.core.packageManagement.DefaultPackage http://prdownloads.sourceforge.net/weka/functionalTrees1.0.4.zip?download\n",
            "weka.core.packageManagement.DefaultPackage http://prdownloads.sourceforge.net/weka/fuzzyLaticeReasoning1.0.1.zip?download\n",
            "weka.core.packageManagement.DefaultPackage http://prdownloads.sourceforge.net/weka/fuzzyUnorderedRuleInduction1.0.2.zip?download\n",
            "weka.core.packageManagement.DefaultPackage http://prdownloads.sourceforge.net/weka/gaussianProcesses1.0.1.zip?download\n",
            "weka.core.packageManagement.DefaultPackage http://prdownloads.sourceforge.net/weka/generalizedSequentialPatterns1.0.1.zip?download\n",
            "weka.core.packageManagement.DefaultPackage http://prdownloads.sourceforge.net/weka/grading1.0.1.zip?download\n",
            "weka.core.packageManagement.DefaultPackage http://voltaic-sandbox-523.appspot.com/downloads/graphgram_weka_20140513.zip\n",
            "weka.core.packageManagement.DefaultPackage http://prdownloads.sourceforge.net/weka/gridSearch1.0.12.zip?download\n",
            "weka.core.packageManagement.DefaultPackage http://prdownloads.sourceforge.net/weka/hiddenNaiveBayes1.0.1.zip?download\n",
            "weka.core.packageManagement.DefaultPackage http://prdownloads.sourceforge.net/weka/hiveJDBC1.0.0.zip?download\n",
            "weka.core.packageManagement.DefaultPackage http://prdownloads.sourceforge.net/weka/hotSpot1.0.5.zip?download\n",
            "weka.core.packageManagement.DefaultPackage http://prdownloads.sourceforge.net/weka/hyperPipes1.0.1.zip?download\n",
            "weka.core.packageManagement.DefaultPackage https://github.com/mmayo888/ImageFilter/blob/master/imageFilters1.0.3.zip?raw=true\n",
            "weka.core.packageManagement.DefaultPackage http://prdownloads.sourceforge.net/weka/isolationForest1.0.2.zip?download\n",
            "weka.core.packageManagement.DefaultPackage http://prdownloads.sourceforge.net/weka/isotonicRegression1.0.1.zip?download\n",
            "weka.core.packageManagement.DefaultPackage http://prdownloads.sourceforge.net/weka/iterativeAbsoluteErrorRegression1.0.0.zip?download\n",
            "weka.core.packageManagement.DefaultPackage http://prdownloads.sourceforge.net/weka/javaFXScatterPlot3D1.0.0.zip?download\n",
            "weka.core.packageManagement.DefaultPackage http://prdownloads.sourceforge.net/weka/jfreechartOffscreenRenderer1.0.5.zip?download\n",
            "weka.core.packageManagement.DefaultPackage http://prdownloads.sourceforge.net/weka/jsonFieldExtractor1.0.0.zip?download\n",
            "weka.core.packageManagement.DefaultPackage http://prdownloads.sourceforge.net/weka/kerasZoo1.0.2.zip?download\n",
            "weka.core.packageManagement.DefaultPackage http://prdownloads.sourceforge.net/weka/kerasZoo10MonkeysExample1.0.0.zip?download\n",
            "weka.core.packageManagement.DefaultPackage http://prdownloads.sourceforge.net/weka/kernelLogisticRegression1.0.0.zip?download\n",
            "weka.core.packageManagement.DefaultPackage http://prdownloads.sourceforge.net/weka/kfGroovy1.0.15.zip?download\n",
            "weka.core.packageManagement.DefaultPackage http://prdownloads.sourceforge.net/weka/kfKettle1.0.4.zip?download\n",
            "weka.core.packageManagement.DefaultPackage http://prdownloads.sourceforge.net/weka/kfPMMLClassifierScoring1.0.2.zip?download\n",
            "weka.core.packageManagement.DefaultPackage http://prdownloads.sourceforge.net/weka/largeScaleKernelLearning1.0.4.zip?download\n",
            "weka.core.packageManagement.DefaultPackage http://prdownloads.sourceforge.net/weka/latentSemanticAnalysis1.0.5.zip?download\n",
            "weka.core.packageManagement.DefaultPackage https://storage.googleapis.com/google-code-archive-downloads/v2/code.google.com/machine-learning-dcc-ufmg/lazy-associative-classifier-1.0.0.zip\n",
            "weka.core.packageManagement.DefaultPackage http://prdownloads.sourceforge.net/weka/lazyBayesianRules1.0.1.zip?download\n",
            "weka.core.packageManagement.DefaultPackage http://prdownloads.sourceforge.net/weka/leastMedSquared1.0.1.zip?download\n",
            "weka.core.packageManagement.DefaultPackage http://prdownloads.sourceforge.net/weka/levenshteinEditDistance1.0.1.zip?download\n",
            "weka.core.packageManagement.DefaultPackage http://prdownloads.sourceforge.net/weka/linearForwardSelection1.0.1.zip?download\n",
            "weka.core.packageManagement.DefaultPackage http://prdownloads.sourceforge.net/weka/localOutlierFactor1.0.6.zip?download\n",
            "weka.core.packageManagement.DefaultPackage http://prdownloads.sourceforge.net/weka/logarithmicErrorMetrics1.0.0.zip?download\n",
            "weka.core.packageManagement.DefaultPackage https://github.com/Waikato/moa/releases/download/2020.07.1/massiveOnlineAnalysis-2020.07.1.zip\n",
            "weka.core.packageManagement.DefaultPackage http://prdownloads.sourceforge.net/weka/metaCost1.0.3.zip?download\n",
            "weka.core.packageManagement.DefaultPackage https://bitbucket.org/umprogramming/attribute-selection/raw/master/metaphorSearchMethods.zip\n",
            "weka.core.packageManagement.DefaultPackage http://prdownloads.sourceforge.net/weka/multiBoostAB1.0.1.zip?download\n",
            "weka.core.packageManagement.DefaultPackage http://prdownloads.sourceforge.net/weka/multiInstanceFilters1.0.10.zip?download\n",
            "weka.core.packageManagement.DefaultPackage http://prdownloads.sourceforge.net/weka/multiInstanceLearning1.0.10.zip?download\n",
            "weka.core.packageManagement.DefaultPackage http://prdownloads.sourceforge.net/weka/multiLayerPerceptrons1.0.10.zip?download\n",
            "weka.core.packageManagement.DefaultPackage http://prdownloads.sourceforge.net/weka/multilayerPerceptronCS1.0.1.zip?download\n",
            "weka.core.packageManagement.DefaultPackage https://github.com/fracpete/multisearch-weka-package/releases/download/v2020.2.17/multisearch-2020.2.17.zip\n",
            "weka.core.packageManagement.DefaultPackage http://prdownloads.sourceforge.net/weka/naiveBayesTree1.0.4.zip?download\n",
            "weka.core.packageManagement.DefaultPackage http://prdownloads.sourceforge.net/weka/netlibNativeLinux1.0.2.zip?download\n",
            "weka.core.packageManagement.DefaultPackage http://prdownloads.sourceforge.net/weka/netlibNativeOSX1.0.1.zip?download\n",
            "weka.core.packageManagement.DefaultPackage http://prdownloads.sourceforge.net/weka/netlibNativeWindows1.0.1.zip?download\n",
            "weka.core.packageManagement.DefaultPackage http://prdownloads.sourceforge.net/weka/newKnowledgeFlowStepExamples1.0.0.zip?download\n",
            "weka.core.packageManagement.DefaultPackage http://prdownloads.sourceforge.net/weka/niftiLoader1.0.1.zip?download\n",
            "weka.core.packageManagement.DefaultPackage http://prdownloads.sourceforge.net/weka/normalize1.0.1.zip?download\n",
            "weka.core.packageManagement.DefaultPackage http://prdownloads.sourceforge.net/weka/oneClassClassifier1.0.4.zip?download\n",
            "weka.core.packageManagement.DefaultPackage http://prdownloads.sourceforge.net/weka/optics_dbScan1.0.6.zip?download\n",
            "weka.core.packageManagement.DefaultPackage http://prdownloads.sourceforge.net/weka/ordinalClassClassifier1.0.5.zip?download\n",
            "weka.core.packageManagement.DefaultPackage http://prdownloads.sourceforge.net/weka/ordinalLearningMethod1.0.1.zip?download\n",
            "weka.core.packageManagement.DefaultPackage http://prdownloads.sourceforge.net/weka/ordinalStochasticDominance1.0.1.zip?download\n",
            "weka.core.packageManagement.DefaultPackage http://prdownloads.sourceforge.net/weka/paceRegression1.0.1.zip?download\n",
            "weka.core.packageManagement.DefaultPackage http://prdownloads.sourceforge.net/weka/partialLeastSquares1.0.5.zip?download\n",
            "weka.core.packageManagement.DefaultPackage http://prdownloads.sourceforge.net/weka/percentageErrorMetrics1.0.1.zip?download\n",
            "weka.core.packageManagement.DefaultPackage http://prdownloads.sourceforge.net/weka/predictiveApriori1.1.5.zip?download\n",
            "weka.core.packageManagement.DefaultPackage http://prdownloads.sourceforge.net/weka/prefuseGraph1.0.4.zip?download\n",
            "weka.core.packageManagement.DefaultPackage http://prdownloads.sourceforge.net/weka/prefuseGraphViewer1.0.4.zip?download\n",
            "weka.core.packageManagement.DefaultPackage http://prdownloads.sourceforge.net/weka/prefuseTree1.0.2.zip?download\n",
            "weka.core.packageManagement.DefaultPackage http://prdownloads.sourceforge.net/weka/probabilisticSignificanceAE1.0.1.zip?download\n",
            "weka.core.packageManagement.DefaultPackage http://prdownloads.sourceforge.net/weka/probabilityCalibrationTrees1.0.0.zip?download\n",
            "weka.core.packageManagement.DefaultPackage http://prdownloads.sourceforge.net/weka/raceSearch1.0.1.zip?download\n",
            "weka.core.packageManagement.DefaultPackage http://prdownloads.sourceforge.net/weka/racedIncrementalLogitBoost1.0.1.zip?download\n",
            "weka.core.packageManagement.DefaultPackage http://prdownloads.sourceforge.net/weka/realAdaBoost1.0.1.zip?download\n",
            "weka.core.packageManagement.DefaultPackage http://prdownloads.sourceforge.net/weka/regressionByDiscretization1.0.1.zip?download\n",
            "weka.core.packageManagement.DefaultPackage http://prdownloads.sourceforge.net/weka/ridor1.0.1.zip?download\n",
            "weka.core.packageManagement.DefaultPackage http://prdownloads.sourceforge.net/weka/rotationForest1.0.2.zip?download\n",
            "weka.core.packageManagement.DefaultPackage http://prdownloads.sourceforge.net/weka/sasLoader1.0.0.zip?download\n",
            "weka.core.packageManagement.DefaultPackage http://prdownloads.sourceforge.net/weka/scatterPlot3D1.0.7.zip?download\n",
            "weka.core.packageManagement.DefaultPackage http://prdownloads.sourceforge.net/weka/scriptingClassifiers1.1.3.zip?download\n",
            "weka.core.packageManagement.DefaultPackage http://prdownloads.sourceforge.net/weka/sequentialInformationalBottleneckClusterer1.0.1.zip?download\n",
            "weka.core.packageManagement.DefaultPackage http://prdownloads.sourceforge.net/weka/simpleCART1.0.4.zip?download\n",
            "weka.core.packageManagement.DefaultPackage http://prdownloads.sourceforge.net/weka/simpleEducationalLearningSchemes1.0.1.zip?download\n",
            "weka.core.packageManagement.DefaultPackage http://prdownloads.sourceforge.net/weka/snowball-stemmers1.0.2.zip?download\n",
            "weka.core.packageManagement.DefaultPackage http://prdownloads.sourceforge.net/weka/stackingC1.0.4.zip?download\n",
            "weka.core.packageManagement.DefaultPackage http://downloads.sourceforge.net/project/weka/weka-packages/streamingUnivariateStats1.0.1.zip\n",
            "weka.core.packageManagement.DefaultPackage http://prdownloads.sourceforge.net/weka/supervisedAttributeScaling1.0.2.zip?download\n",
            "weka.core.packageManagement.DefaultPackage http://prdownloads.sourceforge.net/weka/tabuAndScatterSearch1.0.1.zip?download\n",
            "weka.core.packageManagement.DefaultPackage http://prdownloads.sourceforge.net/weka/tertius1.0.1.zip?download\n",
            "weka.core.packageManagement.DefaultPackage http://prdownloads.sourceforge.net/weka/thresholdSelector1.0.3.zip?download\n",
            "weka.core.packageManagement.DefaultPackage http://prdownloads.sourceforge.net/weka/tigerjython1.0.5.zip?download\n",
            "weka.core.packageManagement.DefaultPackage http://prdownloads.sourceforge.net/weka/timeSeriesFilters1.0.1.zip?download\n",
            "weka.core.packageManagement.DefaultPackage http://prdownloads.sourceforge.net/weka/timeseriesForecasting1.1.27.zip?download\n",
            "weka.core.packageManagement.DefaultPackage http://prdownloads.sourceforge.net/weka/userClassifier1.0.3.zip?download\n",
            "weka.core.packageManagement.DefaultPackage https://github.com/Oowekyala/vfdr-weka/releases/download/v1.0.0/vfdr-1.0.0.zip\n",
            "weka.core.packageManagement.DefaultPackage https://github.com/kramerlab/rvines/releases/download/1.0.0/vines-1.0.0.zip\n",
            "weka.core.packageManagement.DefaultPackage http://prdownloads.sourceforge.net/weka/votingFeatureIntervals1.0.1.zip?download\n",
            "weka.core.packageManagement.DefaultPackage http://prdownloads.sourceforge.net/weka/wavelet1.0.1.zip?download\n",
            "weka.core.packageManagement.DefaultPackage https://github.com/Waikato/wekaDeeplearning4j/releases/download/v1.6.0/wekaDeeplearning4j-1.6.0.zip\n",
            "weka.core.packageManagement.DefaultPackage http://prdownloads.sourceforge.net/weka/wekaPython1.0.12.zip?download\n",
            "weka.core.packageManagement.DefaultPackage http://prdownloads.sourceforge.net/weka/wekaServer1.1.10.zip?download\n",
            "weka.core.packageManagement.DefaultPackage http://prdownloads.sourceforge.net/weka/winnow1.0.1.zip?download\n"
          ],
          "name": "stdout"
        }
      ]
    },
    {
      "cell_type": "markdown",
      "metadata": {
        "id": "z74HmItZsYF3",
        "colab_type": "text"
      },
      "source": [
        "Instalamos el de **AveradeNDependenceEstimators**"
      ]
    },
    {
      "cell_type": "code",
      "metadata": {
        "id": "TeoEi6sushqR",
        "colab_type": "code",
        "colab": {}
      },
      "source": [
        "cls2 = Classifier(classname=\"weka.classifiers.bayes.AveragedNDependenceEstimators.A1DE\" )\n"
      ],
      "execution_count": null,
      "outputs": []
    },
    {
      "cell_type": "markdown",
      "metadata": {
        "id": "iOYsgk-_skkp",
        "colab_type": "text"
      },
      "source": [
        "Probamos el clasificador **A1DE**"
      ]
    },
    {
      "cell_type": "code",
      "metadata": {
        "id": "UNnbRTyWlFCn",
        "colab_type": "code",
        "colab": {
          "base_uri": "https://localhost:8080/",
          "height": 1000
        },
        "outputId": "cf59bd9d-d28e-4fff-f57f-0e5fc04259c6"
      },
      "source": [
        "\n",
        "# Construimos el modelo\n",
        "cls2.build_classifier(data)\n",
        "\n",
        "# Mostramos el modelo\n",
        "print(cls2)\n",
        "\n",
        "# Hacemos predicciones sobre los datos\n",
        "for index, inst in enumerate(data):\n",
        "    # Predicción\n",
        "    pred = cls2.classify_instance(inst)\n",
        "    # Probabilidades\n",
        "    dist = cls2.distribution_for_instance(inst)\n",
        "    print(str(index+1) + \": label index=\" + str(pred) + \", class distribution=\" + str(dist))"
      ],
      "execution_count": null,
      "outputs": [
        {
          "output_type": "stream",
          "text": [
            "The A1DE Classifier\n",
            "\n",
            "Class Iris-setosa: Prior probability = 0.33\n",
            "Class Iris-versicolor: Prior probability = 0.33\n",
            "Class Iris-virginica: Prior probability = 0.33\n",
            "\n",
            "Dataset: iris-weka.filters.supervised.attribute.Discretize-Rfirst-last-precision6\n",
            "Instances: 150\n",
            "Attributes: 5\n",
            "Frequency limit for superParents: (F = 1) \n",
            "Correction: m-estimate (m = 1.0)\n",
            "Incremental Classifier Flag: (false)\n",
            "Subsumption Resolution Flag: (false)\n",
            "Critical Value for Subsumption Resolution (100)\n",
            "Weighted AODE Flag: (false)\n",
            "\n",
            "1: label index=0.0, class distribution=[9.99737472e-01 1.28257235e-04 1.34270696e-04]\n",
            "2: label index=0.0, class distribution=[9.99653232e-01 1.45670854e-04 2.01097391e-04]\n",
            "3: label index=0.0, class distribution=[9.99653232e-01 1.45670854e-04 2.01097391e-04]\n",
            "4: label index=0.0, class distribution=[9.99653232e-01 1.45670854e-04 2.01097391e-04]\n",
            "5: label index=0.0, class distribution=[9.99737472e-01 1.28257235e-04 1.34270696e-04]\n",
            "6: label index=0.0, class distribution=[9.99737472e-01 1.28257235e-04 1.34270696e-04]\n",
            "7: label index=0.0, class distribution=[9.99737472e-01 1.28257235e-04 1.34270696e-04]\n",
            "8: label index=0.0, class distribution=[9.99737472e-01 1.28257235e-04 1.34270696e-04]\n",
            "9: label index=0.0, class distribution=[0.99388864 0.0022136  0.00389776]\n",
            "10: label index=0.0, class distribution=[9.99653232e-01 1.45670854e-04 2.01097391e-04]\n",
            "11: label index=0.0, class distribution=[9.99737472e-01 1.28257235e-04 1.34270696e-04]\n",
            "12: label index=0.0, class distribution=[9.99737472e-01 1.28257235e-04 1.34270696e-04]\n",
            "13: label index=0.0, class distribution=[9.99653232e-01 1.45670854e-04 2.01097391e-04]\n",
            "14: label index=0.0, class distribution=[9.99653232e-01 1.45670854e-04 2.01097391e-04]\n",
            "15: label index=0.0, class distribution=[0.99562356 0.00330765 0.00106879]\n",
            "16: label index=0.0, class distribution=[0.99562356 0.00330765 0.00106879]\n",
            "17: label index=0.0, class distribution=[9.99737472e-01 1.28257235e-04 1.34270696e-04]\n",
            "18: label index=0.0, class distribution=[9.99737472e-01 1.28257235e-04 1.34270696e-04]\n",
            "19: label index=0.0, class distribution=[0.99562356 0.00330765 0.00106879]\n",
            "20: label index=0.0, class distribution=[9.99737472e-01 1.28257235e-04 1.34270696e-04]\n",
            "21: label index=0.0, class distribution=[9.99737472e-01 1.28257235e-04 1.34270696e-04]\n",
            "22: label index=0.0, class distribution=[9.99737472e-01 1.28257235e-04 1.34270696e-04]\n",
            "23: label index=0.0, class distribution=[9.99737472e-01 1.28257235e-04 1.34270696e-04]\n",
            "24: label index=0.0, class distribution=[9.99653232e-01 1.45670854e-04 2.01097391e-04]\n",
            "25: label index=0.0, class distribution=[9.99737472e-01 1.28257235e-04 1.34270696e-04]\n",
            "26: label index=0.0, class distribution=[9.99653232e-01 1.45670854e-04 2.01097391e-04]\n",
            "27: label index=0.0, class distribution=[9.99737472e-01 1.28257235e-04 1.34270696e-04]\n",
            "28: label index=0.0, class distribution=[9.99737472e-01 1.28257235e-04 1.34270696e-04]\n",
            "29: label index=0.0, class distribution=[9.99737472e-01 1.28257235e-04 1.34270696e-04]\n",
            "30: label index=0.0, class distribution=[9.99653232e-01 1.45670854e-04 2.01097391e-04]\n",
            "31: label index=0.0, class distribution=[9.99653232e-01 1.45670854e-04 2.01097391e-04]\n",
            "32: label index=0.0, class distribution=[9.99737472e-01 1.28257235e-04 1.34270696e-04]\n",
            "33: label index=0.0, class distribution=[9.99737472e-01 1.28257235e-04 1.34270696e-04]\n",
            "34: label index=0.0, class distribution=[9.99737472e-01 1.28257235e-04 1.34270696e-04]\n",
            "35: label index=0.0, class distribution=[9.99653232e-01 1.45670854e-04 2.01097391e-04]\n",
            "36: label index=0.0, class distribution=[9.99653232e-01 1.45670854e-04 2.01097391e-04]\n",
            "37: label index=0.0, class distribution=[9.99737472e-01 1.28257235e-04 1.34270696e-04]\n",
            "38: label index=0.0, class distribution=[9.99653232e-01 1.45670854e-04 2.01097391e-04]\n",
            "39: label index=0.0, class distribution=[9.99653232e-01 1.45670854e-04 2.01097391e-04]\n",
            "40: label index=0.0, class distribution=[9.99737472e-01 1.28257235e-04 1.34270696e-04]\n",
            "41: label index=0.0, class distribution=[9.99737472e-01 1.28257235e-04 1.34270696e-04]\n",
            "42: label index=0.0, class distribution=[0.99388864 0.0022136  0.00389776]\n",
            "43: label index=0.0, class distribution=[9.99653232e-01 1.45670854e-04 2.01097391e-04]\n",
            "44: label index=0.0, class distribution=[9.99737472e-01 1.28257235e-04 1.34270696e-04]\n",
            "45: label index=0.0, class distribution=[9.99737472e-01 1.28257235e-04 1.34270696e-04]\n",
            "46: label index=0.0, class distribution=[9.99653232e-01 1.45670854e-04 2.01097391e-04]\n",
            "47: label index=0.0, class distribution=[9.99737472e-01 1.28257235e-04 1.34270696e-04]\n",
            "48: label index=0.0, class distribution=[9.99653232e-01 1.45670854e-04 2.01097391e-04]\n",
            "49: label index=0.0, class distribution=[9.99737472e-01 1.28257235e-04 1.34270696e-04]\n",
            "50: label index=0.0, class distribution=[9.99653232e-01 1.45670854e-04 2.01097391e-04]\n",
            "51: label index=1.0, class distribution=[6.74888153e-04 9.91542050e-01 7.78306213e-03]\n",
            "52: label index=1.0, class distribution=[6.74888153e-04 9.91542050e-01 7.78306213e-03]\n",
            "53: label index=1.0, class distribution=[0.00131099 0.55481715 0.44387186]\n",
            "54: label index=1.0, class distribution=[8.76021767e-04 9.72915787e-01 2.62081916e-02]\n",
            "55: label index=1.0, class distribution=[4.87357729e-04 9.81594040e-01 1.79186021e-02]\n",
            "56: label index=1.0, class distribution=[2.34045362e-04 9.90194584e-01 9.57137017e-03]\n",
            "57: label index=1.0, class distribution=[6.74888153e-04 9.91542050e-01 7.78306213e-03]\n",
            "58: label index=1.0, class distribution=[8.76021767e-04 9.72915787e-01 2.62081916e-02]\n",
            "59: label index=1.0, class distribution=[4.87357729e-04 9.81594040e-01 1.79186021e-02]\n",
            "60: label index=1.0, class distribution=[8.76021767e-04 9.72915787e-01 2.62081916e-02]\n",
            "61: label index=1.0, class distribution=[8.76021767e-04 9.72915787e-01 2.62081916e-02]\n",
            "62: label index=1.0, class distribution=[4.92922755e-04 9.92659122e-01 6.84795571e-03]\n",
            "63: label index=1.0, class distribution=[2.34045362e-04 9.90194584e-01 9.57137017e-03]\n",
            "64: label index=1.0, class distribution=[2.34045362e-04 9.90194584e-01 9.57137017e-03]\n",
            "65: label index=1.0, class distribution=[2.34045362e-04 9.90194584e-01 9.57137017e-03]\n",
            "66: label index=1.0, class distribution=[6.74888153e-04 9.91542050e-01 7.78306213e-03]\n",
            "67: label index=1.0, class distribution=[4.92922755e-04 9.92659122e-01 6.84795571e-03]\n",
            "68: label index=1.0, class distribution=[2.34045362e-04 9.90194584e-01 9.57137017e-03]\n",
            "69: label index=1.0, class distribution=[4.87357729e-04 9.81594040e-01 1.79186021e-02]\n",
            "70: label index=1.0, class distribution=[2.34045362e-04 9.90194584e-01 9.57137017e-03]\n",
            "71: label index=2.0, class distribution=[7.07029558e-04 4.54268577e-02 9.53866113e-01]\n",
            "72: label index=1.0, class distribution=[2.34045362e-04 9.90194584e-01 9.57137017e-03]\n",
            "73: label index=2.0, class distribution=[0.0014203  0.48834394 0.51023576]\n",
            "74: label index=1.0, class distribution=[2.34045362e-04 9.90194584e-01 9.57137017e-03]\n",
            "75: label index=1.0, class distribution=[4.87357729e-04 9.81594040e-01 1.79186021e-02]\n",
            "76: label index=1.0, class distribution=[6.74888153e-04 9.91542050e-01 7.78306213e-03]\n",
            "77: label index=2.0, class distribution=[0.0014203  0.48834394 0.51023576]\n",
            "78: label index=1.0, class distribution=[0.00131099 0.55481715 0.44387186]\n",
            "79: label index=1.0, class distribution=[2.34045362e-04 9.90194584e-01 9.57137017e-03]\n",
            "80: label index=1.0, class distribution=[2.34045362e-04 9.90194584e-01 9.57137017e-03]\n",
            "81: label index=1.0, class distribution=[8.76021767e-04 9.72915787e-01 2.62081916e-02]\n",
            "82: label index=1.0, class distribution=[8.76021767e-04 9.72915787e-01 2.62081916e-02]\n",
            "83: label index=1.0, class distribution=[2.34045362e-04 9.90194584e-01 9.57137017e-03]\n",
            "84: label index=1.0, class distribution=[0.00139183 0.56590597 0.4327022 ]\n",
            "85: label index=1.0, class distribution=[0.00180166 0.970704   0.02749434]\n",
            "86: label index=1.0, class distribution=[0.01025421 0.9712632  0.01848259]\n",
            "87: label index=1.0, class distribution=[6.74888153e-04 9.91542050e-01 7.78306213e-03]\n",
            "88: label index=1.0, class distribution=[4.87357729e-04 9.81594040e-01 1.79186021e-02]\n",
            "89: label index=1.0, class distribution=[4.92922755e-04 9.92659122e-01 6.84795571e-03]\n",
            "90: label index=1.0, class distribution=[8.76021767e-04 9.72915787e-01 2.62081916e-02]\n",
            "91: label index=1.0, class distribution=[8.76021767e-04 9.72915787e-01 2.62081916e-02]\n",
            "92: label index=1.0, class distribution=[4.92922755e-04 9.92659122e-01 6.84795571e-03]\n",
            "93: label index=1.0, class distribution=[2.34045362e-04 9.90194584e-01 9.57137017e-03]\n",
            "94: label index=1.0, class distribution=[8.76021767e-04 9.72915787e-01 2.62081916e-02]\n",
            "95: label index=1.0, class distribution=[2.34045362e-04 9.90194584e-01 9.57137017e-03]\n",
            "96: label index=1.0, class distribution=[4.92922755e-04 9.92659122e-01 6.84795571e-03]\n",
            "97: label index=1.0, class distribution=[2.34045362e-04 9.90194584e-01 9.57137017e-03]\n",
            "98: label index=1.0, class distribution=[4.87357729e-04 9.81594040e-01 1.79186021e-02]\n",
            "99: label index=1.0, class distribution=[8.76021767e-04 9.72915787e-01 2.62081916e-02]\n",
            "100: label index=1.0, class distribution=[2.34045362e-04 9.90194584e-01 9.57137017e-03]\n",
            "101: label index=2.0, class distribution=[1.68614382e-04 8.15127524e-03 9.91680110e-01]\n",
            "102: label index=2.0, class distribution=[7.56929606e-04 2.14582131e-02 9.77784857e-01]\n",
            "103: label index=2.0, class distribution=[1.68614382e-04 8.15127524e-03 9.91680110e-01]\n",
            "104: label index=2.0, class distribution=[3.07609384e-04 8.28584508e-03 9.91406546e-01]\n",
            "105: label index=2.0, class distribution=[1.68614382e-04 8.15127524e-03 9.91680110e-01]\n",
            "106: label index=2.0, class distribution=[1.68614382e-04 8.15127524e-03 9.91680110e-01]\n",
            "107: label index=1.0, class distribution=[8.76021767e-04 9.72915787e-01 2.62081916e-02]\n",
            "108: label index=2.0, class distribution=[3.07609384e-04 8.28584508e-03 9.91406546e-01]\n",
            "109: label index=2.0, class distribution=[3.07609384e-04 8.28584508e-03 9.91406546e-01]\n",
            "110: label index=2.0, class distribution=[7.56478578e-04 3.76388624e-03 9.95479635e-01]\n",
            "111: label index=2.0, class distribution=[1.68614382e-04 8.15127524e-03 9.91680110e-01]\n",
            "112: label index=2.0, class distribution=[3.07609384e-04 8.28584508e-03 9.91406546e-01]\n",
            "113: label index=2.0, class distribution=[1.68614382e-04 8.15127524e-03 9.91680110e-01]\n",
            "114: label index=2.0, class distribution=[7.56929606e-04 2.14582131e-02 9.77784857e-01]\n",
            "115: label index=2.0, class distribution=[7.56929606e-04 2.14582131e-02 9.77784857e-01]\n",
            "116: label index=2.0, class distribution=[1.68614382e-04 8.15127524e-03 9.91680110e-01]\n",
            "117: label index=2.0, class distribution=[1.68614382e-04 8.15127524e-03 9.91680110e-01]\n",
            "118: label index=2.0, class distribution=[7.56478578e-04 3.76388624e-03 9.95479635e-01]\n",
            "119: label index=2.0, class distribution=[3.07609384e-04 8.28584508e-03 9.91406546e-01]\n",
            "120: label index=1.0, class distribution=[0.00139183 0.56590597 0.4327022 ]\n",
            "121: label index=2.0, class distribution=[1.68614382e-04 8.15127524e-03 9.91680110e-01]\n",
            "122: label index=2.0, class distribution=[7.56929606e-04 2.14582131e-02 9.77784857e-01]\n",
            "123: label index=2.0, class distribution=[3.07609384e-04 8.28584508e-03 9.91406546e-01]\n",
            "124: label index=2.0, class distribution=[3.07609384e-04 8.28584508e-03 9.91406546e-01]\n",
            "125: label index=2.0, class distribution=[1.68614382e-04 8.15127524e-03 9.91680110e-01]\n",
            "126: label index=2.0, class distribution=[1.68614382e-04 8.15127524e-03 9.91680110e-01]\n",
            "127: label index=2.0, class distribution=[3.07609384e-04 8.28584508e-03 9.91406546e-01]\n",
            "128: label index=2.0, class distribution=[7.07029558e-04 4.54268577e-02 9.53866113e-01]\n",
            "129: label index=2.0, class distribution=[3.07609384e-04 8.28584508e-03 9.91406546e-01]\n",
            "130: label index=1.0, class distribution=[0.00131099 0.55481715 0.44387186]\n",
            "131: label index=2.0, class distribution=[3.07609384e-04 8.28584508e-03 9.91406546e-01]\n",
            "132: label index=2.0, class distribution=[7.56478578e-04 3.76388624e-03 9.95479635e-01]\n",
            "133: label index=2.0, class distribution=[3.07609384e-04 8.28584508e-03 9.91406546e-01]\n",
            "134: label index=2.0, class distribution=[0.0014203  0.48834394 0.51023576]\n",
            "135: label index=1.0, class distribution=[0.00139183 0.56590597 0.4327022 ]\n",
            "136: label index=2.0, class distribution=[1.68614382e-04 8.15127524e-03 9.91680110e-01]\n",
            "137: label index=2.0, class distribution=[7.56478578e-04 3.76388624e-03 9.95479635e-01]\n",
            "138: label index=2.0, class distribution=[1.68614382e-04 8.15127524e-03 9.91680110e-01]\n",
            "139: label index=2.0, class distribution=[7.07029558e-04 4.54268577e-02 9.53866113e-01]\n",
            "140: label index=2.0, class distribution=[1.68614382e-04 8.15127524e-03 9.91680110e-01]\n",
            "141: label index=2.0, class distribution=[1.68614382e-04 8.15127524e-03 9.91680110e-01]\n",
            "142: label index=2.0, class distribution=[1.68614382e-04 8.15127524e-03 9.91680110e-01]\n",
            "143: label index=2.0, class distribution=[7.56929606e-04 2.14582131e-02 9.77784857e-01]\n",
            "144: label index=2.0, class distribution=[1.68614382e-04 8.15127524e-03 9.91680110e-01]\n",
            "145: label index=2.0, class distribution=[1.68614382e-04 8.15127524e-03 9.91680110e-01]\n",
            "146: label index=2.0, class distribution=[1.68614382e-04 8.15127524e-03 9.91680110e-01]\n",
            "147: label index=2.0, class distribution=[3.07609384e-04 8.28584508e-03 9.91406546e-01]\n",
            "148: label index=2.0, class distribution=[1.68614382e-04 8.15127524e-03 9.91680110e-01]\n",
            "149: label index=2.0, class distribution=[7.56478578e-04 3.76388624e-03 9.95479635e-01]\n",
            "150: label index=2.0, class distribution=[7.07029558e-04 4.54268577e-02 9.53866113e-01]\n"
          ],
          "name": "stdout"
        }
      ]
    }
  ]
}